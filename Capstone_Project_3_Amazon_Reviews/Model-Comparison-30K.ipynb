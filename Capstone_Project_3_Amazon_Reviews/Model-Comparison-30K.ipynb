{
 "cells": [
  {
   "cell_type": "code",
   "execution_count": 1,
   "metadata": {},
   "outputs": [],
   "source": [
    "import pandas as pd\n",
    "import numpy as np\n",
    "from scipy.sparse import hstack\n",
    "from sklearn.feature_extraction.text import CountVectorizer\n",
    "from sklearn.feature_extraction.text import TfidfVectorizer\n",
    "from sklearn.naive_bayes import MultinomialNB\n",
    "from sklearn.linear_model import LogisticRegression\n",
    "from sklearn.ensemble import RandomForestClassifier\n",
    "from sklearn.metrics import accuracy_score, roc_auc_score\n",
    "from sklearn.model_selection import RandomizedSearchCV, GridSearchCV\n",
    "import time\n",
    "from keras.models import Sequential\n",
    "from keras import layers\n",
    "from tensorflow.keras.optimizers import RMSprop,Adam\n",
    "from keras.preprocessing.text import Tokenizer\n",
    "from keras.preprocessing.sequence import pad_sequences\n",
    "from keras import regularizers\n",
    "from keras import backend as K\n",
    "from keras.callbacks import ModelCheckpoint\n",
    "import tensorflow as tf\n",
    "import matplotlib.pyplot as plt"
   ]
  },
  {
   "cell_type": "markdown",
   "metadata": {},
   "source": [
    "### Load and clean the data"
   ]
  },
  {
   "cell_type": "code",
   "execution_count": 2,
   "metadata": {},
   "outputs": [],
   "source": [
    "data = pd.read_csv('small_training_set_30k.csv',header=None)\n",
    "data.columns=['label','title','body']"
   ]
  },
  {
   "cell_type": "code",
   "execution_count": 3,
   "metadata": {},
   "outputs": [
    {
     "data": {
      "text/html": [
       "<div>\n",
       "<style scoped>\n",
       "    .dataframe tbody tr th:only-of-type {\n",
       "        vertical-align: middle;\n",
       "    }\n",
       "\n",
       "    .dataframe tbody tr th {\n",
       "        vertical-align: top;\n",
       "    }\n",
       "\n",
       "    .dataframe thead th {\n",
       "        text-align: right;\n",
       "    }\n",
       "</style>\n",
       "<table border=\"1\" class=\"dataframe\">\n",
       "  <thead>\n",
       "    <tr style=\"text-align: right;\">\n",
       "      <th></th>\n",
       "      <th>label</th>\n",
       "      <th>title</th>\n",
       "      <th>body</th>\n",
       "    </tr>\n",
       "  </thead>\n",
       "  <tbody>\n",
       "    <tr>\n",
       "      <th>0</th>\n",
       "      <td>2</td>\n",
       "      <td>Awesome show. Great shipping.</td>\n",
       "      <td>Two Parts to my review.The TV SHOW First..... ...</td>\n",
       "    </tr>\n",
       "    <tr>\n",
       "      <th>1</th>\n",
       "      <td>2</td>\n",
       "      <td>One of the best films I've ever seen</td>\n",
       "      <td>It is as light and fun as a \"let's change the ...</td>\n",
       "    </tr>\n",
       "    <tr>\n",
       "      <th>2</th>\n",
       "      <td>1</td>\n",
       "      <td>Horribly flat and under developed</td>\n",
       "      <td>I ruined my vacation read (to Italy, none the ...</td>\n",
       "    </tr>\n",
       "    <tr>\n",
       "      <th>3</th>\n",
       "      <td>2</td>\n",
       "      <td>The Definitive Brisson</td>\n",
       "      <td>\"Robert Bresson: A Spiritual Style in Film\" by...</td>\n",
       "    </tr>\n",
       "    <tr>\n",
       "      <th>4</th>\n",
       "      <td>2</td>\n",
       "      <td>Classic Motown Tech.</td>\n",
       "      <td>This a slamming yet funky set of 80's electro ...</td>\n",
       "    </tr>\n",
       "  </tbody>\n",
       "</table>\n",
       "</div>"
      ],
      "text/plain": [
       "   label                                 title  \\\n",
       "0      2         Awesome show. Great shipping.   \n",
       "1      2  One of the best films I've ever seen   \n",
       "2      1     Horribly flat and under developed   \n",
       "3      2                The Definitive Brisson   \n",
       "4      2                  Classic Motown Tech.   \n",
       "\n",
       "                                                body  \n",
       "0  Two Parts to my review.The TV SHOW First..... ...  \n",
       "1  It is as light and fun as a \"let's change the ...  \n",
       "2  I ruined my vacation read (to Italy, none the ...  \n",
       "3  \"Robert Bresson: A Spiritual Style in Film\" by...  \n",
       "4  This a slamming yet funky set of 80's electro ...  "
      ]
     },
     "execution_count": 3,
     "metadata": {},
     "output_type": "execute_result"
    }
   ],
   "source": [
    "data.head()"
   ]
  },
  {
   "cell_type": "markdown",
   "metadata": {},
   "source": [
    "Drop the null values"
   ]
  },
  {
   "cell_type": "code",
   "execution_count": 4,
   "metadata": {},
   "outputs": [
    {
     "data": {
      "text/plain": [
       "(29999, 3)"
      ]
     },
     "execution_count": 4,
     "metadata": {},
     "output_type": "execute_result"
    }
   ],
   "source": [
    "data = data.dropna()\n",
    "data.shape"
   ]
  },
  {
   "cell_type": "code",
   "execution_count": 5,
   "metadata": {},
   "outputs": [],
   "source": [
    "performance=pd.DataFrame()"
   ]
  },
  {
   "cell_type": "markdown",
   "metadata": {},
   "source": [
    "# 1. Using review title for prediction"
   ]
  },
  {
   "cell_type": "code",
   "execution_count": 6,
   "metadata": {},
   "outputs": [],
   "source": [
    "X_train = data.title[:20000]\n",
    "y_train = data.label[:20000]\n",
    "X_test = data.title[20000:]\n",
    "y_test = data.label[20000:]"
   ]
  },
  {
   "cell_type": "markdown",
   "metadata": {},
   "source": [
    "### 1.1 Remove stop words"
   ]
  },
  {
   "cell_type": "code",
   "execution_count": 7,
   "metadata": {},
   "outputs": [
    {
     "data": {
      "text/plain": [
       "<20000x11775 sparse matrix of type '<class 'numpy.int64'>'\n",
       "\twith 52724 stored elements in Compressed Sparse Row format>"
      ]
     },
     "execution_count": 7,
     "metadata": {},
     "output_type": "execute_result"
    }
   ],
   "source": [
    "count_vectorizer = CountVectorizer(stop_words='english')\n",
    "count_train = count_vectorizer.fit_transform(X_train)\n",
    "count_test = count_vectorizer.transform(X_test)\n",
    "count_train"
   ]
  },
  {
   "cell_type": "code",
   "execution_count": 8,
   "metadata": {},
   "outputs": [
    {
     "name": "stdout",
     "output_type": "stream",
     "text": [
      "--- 0.009996891021728516 seconds ---\n",
      "accuracy:  0.7620762076207621\n",
      "AUC:  0.7615496420258778\n"
     ]
    }
   ],
   "source": [
    "start_time = time.time()\n",
    "model_1 = MultinomialNB()\n",
    "model_1.fit(count_train, y_train)\n",
    "pred_1 = model_1.predict(count_test)\n",
    "print(\"--- %s seconds ---\" % (time.time() - start_time))\n",
    "print('accuracy: ' , accuracy_score(y_test, pred_1))\n",
    "print(('AUC: '), roc_auc_score(y_test, pred_1))"
   ]
  },
  {
   "cell_type": "code",
   "execution_count": 9,
   "metadata": {},
   "outputs": [
    {
     "name": "stdout",
     "output_type": "stream",
     "text": [
      "--- 0.47279810905456543 seconds ---\n",
      "accuracy:  0.7591759175917592\n",
      "AUC:  0.7594351479251585\n"
     ]
    }
   ],
   "source": [
    "start_time = time.time()\n",
    "model_2 = LogisticRegression(max_iter=1000)\n",
    "model_2.fit(count_train, y_train)\n",
    "pred_2 = model_2.predict(count_test)\n",
    "print(\"--- %s seconds ---\" % (time.time() - start_time))\n",
    "print('accuracy: ' , accuracy_score(y_test, pred_2))\n",
    "print(('AUC: '), roc_auc_score(y_test, pred_2))"
   ]
  },
  {
   "cell_type": "code",
   "execution_count": 10,
   "metadata": {},
   "outputs": [
    {
     "name": "stdout",
     "output_type": "stream",
     "text": [
      "--- 46.05354642868042 seconds ---\n",
      "accuracy:  0.7445744574457446\n",
      "AUC:  0.7448254103408166\n"
     ]
    }
   ],
   "source": [
    "start_time = time.time()\n",
    "model_3 = RandomForestClassifier()\n",
    "model_3.fit(count_train, y_train)\n",
    "pred_3 = model_3.predict(count_test)\n",
    "print(\"--- %s seconds ---\" % (time.time() - start_time))\n",
    "print('accuracy: ' , accuracy_score(y_test, pred_3))\n",
    "print(('AUC: '), roc_auc_score(y_test, pred_3))"
   ]
  },
  {
   "cell_type": "markdown",
   "metadata": {},
   "source": [
    "### 1.2 Keep stopwords"
   ]
  },
  {
   "cell_type": "code",
   "execution_count": 11,
   "metadata": {},
   "outputs": [
    {
     "data": {
      "text/plain": [
       "<20000x12033 sparse matrix of type '<class 'numpy.int64'>'\n",
       "\twith 80968 stored elements in Compressed Sparse Row format>"
      ]
     },
     "execution_count": 11,
     "metadata": {},
     "output_type": "execute_result"
    }
   ],
   "source": [
    "count_vectorizer = CountVectorizer()\n",
    "count_train = count_vectorizer.fit_transform(X_train)\n",
    "count_test = count_vectorizer.transform(X_test)\n",
    "count_train"
   ]
  },
  {
   "cell_type": "code",
   "execution_count": 12,
   "metadata": {},
   "outputs": [
    {
     "name": "stdout",
     "output_type": "stream",
     "text": [
      "--- 0.012000083923339844 seconds ---\n",
      "accuracy:  0.7932793279327933\n",
      "AUC:  0.793125008252631\n"
     ]
    }
   ],
   "source": [
    "start_time = time.time()\n",
    "model_1 = MultinomialNB()\n",
    "model_1.fit(count_train, y_train)\n",
    "pred_1 = model_1.predict(count_test)\n",
    "print(\"--- %s seconds ---\" % (time.time() - start_time))\n",
    "print('accuracy: ' , accuracy_score(y_test, pred_1))\n",
    "print(('AUC: '), roc_auc_score(y_test, pred_1))"
   ]
  },
  {
   "cell_type": "code",
   "execution_count": 13,
   "metadata": {},
   "outputs": [
    {
     "name": "stdout",
     "output_type": "stream",
     "text": [
      "--- 0.5406908988952637 seconds ---\n",
      "accuracy:  0.8023802380238024\n",
      "AUC:  0.8020754416507982\n"
     ]
    }
   ],
   "source": [
    "start_time = time.time()\n",
    "model_2 = LogisticRegression(max_iter=1000)\n",
    "model_2.fit(count_train, y_train)\n",
    "pred_2 = model_2.predict(count_test)\n",
    "print(\"--- %s seconds ---\" % (time.time() - start_time))\n",
    "print('accuracy: ' , accuracy_score(y_test, pred_2))\n",
    "print(('AUC: '), roc_auc_score(y_test, pred_2))"
   ]
  },
  {
   "cell_type": "code",
   "execution_count": 14,
   "metadata": {},
   "outputs": [
    {
     "name": "stdout",
     "output_type": "stream",
     "text": [
      "--- 33.83586931228638 seconds ---\n",
      "accuracy:  0.8000800080008\n",
      "AUC:  0.800042073413004\n"
     ]
    }
   ],
   "source": [
    "start_time = time.time()\n",
    "model_3 = RandomForestClassifier()\n",
    "model_3.fit(count_train, y_train)\n",
    "pred_3 = model_3.predict(count_test)\n",
    "print(\"--- %s seconds ---\" % (time.time() - start_time))\n",
    "print('accuracy: ' , accuracy_score(y_test, pred_3))\n",
    "print(('AUC: '), roc_auc_score(y_test, pred_3))"
   ]
  },
  {
   "cell_type": "markdown",
   "metadata": {},
   "source": [
    "Keeping stopwords seem to improve model accuracy"
   ]
  },
  {
   "cell_type": "markdown",
   "metadata": {},
   "source": [
    "### 1.3 Define min df, 3-gram"
   ]
  },
  {
   "cell_type": "code",
   "execution_count": 15,
   "metadata": {},
   "outputs": [
    {
     "data": {
      "text/plain": [
       "<20000x6890 sparse matrix of type '<class 'numpy.int64'>'\n",
       "\twith 98435 stored elements in Compressed Sparse Row format>"
      ]
     },
     "execution_count": 15,
     "metadata": {},
     "output_type": "execute_result"
    }
   ],
   "source": [
    "count_vectorizer = CountVectorizer(min_df=3,ngram_range=(1,3))\n",
    "count_train = count_vectorizer.fit_transform(X_train)\n",
    "count_test = count_vectorizer.transform(X_test)\n",
    "count_train"
   ]
  },
  {
   "cell_type": "code",
   "execution_count": 16,
   "metadata": {},
   "outputs": [
    {
     "name": "stdout",
     "output_type": "stream",
     "text": [
      "--- 0.008997201919555664 seconds ---\n",
      "accuracy:  0.7998799879987999\n",
      "AUC:  0.7993949871218945\n"
     ]
    }
   ],
   "source": [
    "start_time = time.time()\n",
    "model_1 = MultinomialNB()\n",
    "model_1.fit(count_train, y_train)\n",
    "pred_1 = model_1.predict(count_test)\n",
    "run_time = (time.time() - start_time)\n",
    "print(\"--- %s seconds ---\" %run_time)\n",
    "print('accuracy: ' , accuracy_score(y_test, pred_1))\n",
    "print(('AUC: '), roc_auc_score(y_test, pred_1))\n",
    "performance.loc['Naive_Bayes','Model_Accuracy(Title)'] = accuracy_score(y_test, pred_1)"
   ]
  },
  {
   "cell_type": "code",
   "execution_count": 17,
   "metadata": {},
   "outputs": [
    {
     "name": "stdout",
     "output_type": "stream",
     "text": [
      "--- 0.562415361404419 seconds ---\n",
      "accuracy:  0.8056805680568057\n",
      "AUC:  0.8053074720220806\n"
     ]
    }
   ],
   "source": [
    "start_time = time.time()\n",
    "model_2 = LogisticRegression(max_iter=1000)\n",
    "model_2.fit(count_train, y_train)\n",
    "pred_2 = model_2.predict(count_test)\n",
    "run_time = (time.time() - start_time)\n",
    "print(\"--- %s seconds ---\" %run_time)\n",
    "print('accuracy: ' , accuracy_score(y_test, pred_2))\n",
    "print(('AUC: '), roc_auc_score(y_test, pred_2))\n",
    "performance.loc['Logistic_Regression','Model_Accuracy(Title)'] = accuracy_score(y_test, pred_2)"
   ]
  },
  {
   "cell_type": "code",
   "execution_count": 18,
   "metadata": {},
   "outputs": [
    {
     "name": "stdout",
     "output_type": "stream",
     "text": [
      "--- 25.349801778793335 seconds ---\n",
      "accuracy:  0.7942794279427943\n",
      "AUC:  0.7944087174991388\n"
     ]
    }
   ],
   "source": [
    "start_time = time.time()\n",
    "model_3 = RandomForestClassifier()\n",
    "model_3.fit(count_train, y_train)\n",
    "pred_3 = model_3.predict(count_test)\n",
    "run_time = (time.time() - start_time)\n",
    "print(\"--- %s seconds ---\" %run_time)\n",
    "print('accuracy: ' , accuracy_score(y_test, pred_3))\n",
    "print(('AUC: '), roc_auc_score(y_test, pred_3))\n",
    "performance.loc['Random_Forest','Model_Accuracy(Title)'] = accuracy_score(y_test, pred_3)"
   ]
  },
  {
   "cell_type": "markdown",
   "metadata": {},
   "source": [
    "Applying min_df reduces the count vector dimension significantly while not sacrificing the model performance"
   ]
  },
  {
   "cell_type": "markdown",
   "metadata": {},
   "source": [
    "### 1.4 tf-tdf"
   ]
  },
  {
   "cell_type": "code",
   "execution_count": 19,
   "metadata": {},
   "outputs": [
    {
     "data": {
      "text/plain": [
       "<20000x6890 sparse matrix of type '<class 'numpy.float64'>'\n",
       "\twith 98435 stored elements in Compressed Sparse Row format>"
      ]
     },
     "execution_count": 19,
     "metadata": {},
     "output_type": "execute_result"
    }
   ],
   "source": [
    "tfidf_vectorizer = TfidfVectorizer(min_df=3,ngram_range=(1,3))\n",
    "tfidf_train = tfidf_vectorizer.fit_transform(X_train)\n",
    "tfidf_test = tfidf_vectorizer.transform(X_test)\n",
    "tfidf_train"
   ]
  },
  {
   "cell_type": "code",
   "execution_count": 20,
   "metadata": {},
   "outputs": [
    {
     "name": "stdout",
     "output_type": "stream",
     "text": [
      "--- 0.009993314743041992 seconds ---\n",
      "accuracy:  0.7987798779877988\n",
      "AUC:  0.7983656189593243\n"
     ]
    }
   ],
   "source": [
    "start_time = time.time()\n",
    "model_1 = MultinomialNB()\n",
    "model_1.fit(tfidf_train, y_train)\n",
    "pred_1 = model_1.predict(tfidf_test)\n",
    "print(\"--- %s seconds ---\" % (time.time() - start_time))\n",
    "print('accuracy: ' , accuracy_score(y_test, pred_1))\n",
    "print(('AUC: '), roc_auc_score(y_test, pred_1))"
   ]
  },
  {
   "cell_type": "code",
   "execution_count": 21,
   "metadata": {},
   "outputs": [
    {
     "name": "stdout",
     "output_type": "stream",
     "text": [
      "--- 0.2656073570251465 seconds ---\n",
      "accuracy:  0.8071807180718071\n",
      "AUC:  0.8072908243147915\n"
     ]
    }
   ],
   "source": [
    "start_time = time.time()\n",
    "model_2 = LogisticRegression(max_iter=1000)\n",
    "model_2.fit(tfidf_train, y_train)\n",
    "pred_2 = model_2.predict(tfidf_test)\n",
    "print(\"--- %s seconds ---\" % (time.time() - start_time))\n",
    "print('accuracy: ' , accuracy_score(y_test, pred_2))\n",
    "print(('AUC: '), roc_auc_score(y_test, pred_2))"
   ]
  },
  {
   "cell_type": "code",
   "execution_count": 22,
   "metadata": {},
   "outputs": [
    {
     "name": "stdout",
     "output_type": "stream",
     "text": [
      "--- 23.444046020507812 seconds ---\n",
      "accuracy:  0.7942794279427943\n",
      "AUC:  0.7942735143963895\n"
     ]
    }
   ],
   "source": [
    "start_time = time.time()\n",
    "model_3 = RandomForestClassifier()\n",
    "model_3.fit(tfidf_train, y_train)\n",
    "pred_3 = model_3.predict(tfidf_test)\n",
    "print(\"--- %s seconds ---\" % (time.time() - start_time))\n",
    "print('accuracy: ' , accuracy_score(y_test, pred_3))\n",
    "print(('AUC: '), roc_auc_score(y_test, pred_3))"
   ]
  },
  {
   "cell_type": "markdown",
   "metadata": {},
   "source": [
    "tf-idf doesn't seem to improve the accuracy in this case"
   ]
  },
  {
   "cell_type": "markdown",
   "metadata": {},
   "source": [
    "## 2. Using review body for prediction"
   ]
  },
  {
   "cell_type": "code",
   "execution_count": 23,
   "metadata": {},
   "outputs": [],
   "source": [
    "X_train = data.body[:20000]\n",
    "X_test = data.body[20000:]"
   ]
  },
  {
   "cell_type": "markdown",
   "metadata": {},
   "source": [
    "### 2.1 Remove stop words"
   ]
  },
  {
   "cell_type": "code",
   "execution_count": 24,
   "metadata": {},
   "outputs": [
    {
     "data": {
      "text/plain": [
       "<20000x48195 sparse matrix of type '<class 'numpy.int64'>'\n",
       "\twith 586790 stored elements in Compressed Sparse Row format>"
      ]
     },
     "execution_count": 24,
     "metadata": {},
     "output_type": "execute_result"
    }
   ],
   "source": [
    "count_vectorizer = CountVectorizer(stop_words='english')\n",
    "count_train = count_vectorizer.fit_transform(X_train)\n",
    "count_test = count_vectorizer.transform(X_test)\n",
    "count_train"
   ]
  },
  {
   "cell_type": "code",
   "execution_count": 25,
   "metadata": {},
   "outputs": [
    {
     "name": "stdout",
     "output_type": "stream",
     "text": [
      "--- 0.025986671447753906 seconds ---\n",
      "accuracy:  0.8131813181318132\n",
      "AUC:  0.8134360634170174\n"
     ]
    }
   ],
   "source": [
    "start_time = time.time()\n",
    "model_1 = MultinomialNB()\n",
    "model_1.fit(count_train, y_train)\n",
    "pred_1 = model_1.predict(count_test)\n",
    "print(\"--- %s seconds ---\" % (time.time() - start_time))\n",
    "print('accuracy: ' , accuracy_score(y_test, pred_1))\n",
    "print(('AUC: '), roc_auc_score(y_test, pred_1))"
   ]
  },
  {
   "cell_type": "code",
   "execution_count": 26,
   "metadata": {},
   "outputs": [
    {
     "name": "stdout",
     "output_type": "stream",
     "text": [
      "--- 2.0260376930236816 seconds ---\n",
      "accuracy:  0.8287828782878288\n",
      "AUC:  0.8287472646279633\n"
     ]
    }
   ],
   "source": [
    "start_time = time.time()\n",
    "model_2 = LogisticRegression(max_iter=1000)\n",
    "model_2.fit(count_train, y_train)\n",
    "pred_2 = model_2.predict(count_test)\n",
    "print(\"--- %s seconds ---\" % (time.time() - start_time))\n",
    "print('accuracy: ' , accuracy_score(y_test, pred_2))\n",
    "print(('AUC: '), roc_auc_score(y_test, pred_2))"
   ]
  },
  {
   "cell_type": "code",
   "execution_count": 27,
   "metadata": {},
   "outputs": [
    {
     "name": "stdout",
     "output_type": "stream",
     "text": [
      "--- 53.607160329818726 seconds ---\n",
      "accuracy:  0.8228822882288229\n",
      "AUC:  0.8229473756233487\n"
     ]
    }
   ],
   "source": [
    "start_time = time.time()\n",
    "model_3 = RandomForestClassifier()\n",
    "model_3.fit(count_train, y_train)\n",
    "pred_3 = model_3.predict(count_test)\n",
    "print(\"--- %s seconds ---\" % (time.time() - start_time))\n",
    "print('accuracy: ' , accuracy_score(y_test, pred_3))\n",
    "print(('AUC: '), roc_auc_score(y_test, pred_3))"
   ]
  },
  {
   "cell_type": "markdown",
   "metadata": {},
   "source": [
    "### 2.2 no stop words"
   ]
  },
  {
   "cell_type": "code",
   "execution_count": 28,
   "metadata": {},
   "outputs": [
    {
     "data": {
      "text/plain": [
       "<20000x48498 sparse matrix of type '<class 'numpy.int64'>'\n",
       "\twith 1051428 stored elements in Compressed Sparse Row format>"
      ]
     },
     "execution_count": 28,
     "metadata": {},
     "output_type": "execute_result"
    }
   ],
   "source": [
    "count_vectorizer = CountVectorizer()\n",
    "count_train = count_vectorizer.fit_transform(X_train)\n",
    "count_test = count_vectorizer.transform(X_test)\n",
    "count_train"
   ]
  },
  {
   "cell_type": "code",
   "execution_count": 29,
   "metadata": {},
   "outputs": [
    {
     "name": "stdout",
     "output_type": "stream",
     "text": [
      "--- 0.026978731155395508 seconds ---\n",
      "accuracy:  0.8176817681768177\n",
      "AUC:  0.8180646190005374\n"
     ]
    }
   ],
   "source": [
    "start_time = time.time()\n",
    "model_1 = MultinomialNB()\n",
    "model_1.fit(count_train, y_train)\n",
    "pred_1 = model_1.predict(count_test)\n",
    "print(\"--- %s seconds ---\" % (time.time() - start_time))\n",
    "print('accuracy: ' , accuracy_score(y_test, pred_1))\n",
    "print(('AUC: '), roc_auc_score(y_test, pred_1))"
   ]
  },
  {
   "cell_type": "code",
   "execution_count": 30,
   "metadata": {},
   "outputs": [
    {
     "name": "stdout",
     "output_type": "stream",
     "text": [
      "--- 7.123927354812622 seconds ---\n",
      "accuracy:  0.8491849184918492\n",
      "AUC:  0.8491604523522099\n"
     ]
    }
   ],
   "source": [
    "start_time = time.time()\n",
    "model_2 = LogisticRegression(max_iter=1000)\n",
    "model_2.fit(count_train, y_train)\n",
    "pred_2 = model_2.predict(count_test)\n",
    "print(\"--- %s seconds ---\" % (time.time() - start_time))\n",
    "print('accuracy: ' , accuracy_score(y_test, pred_2))\n",
    "print(('AUC: '), roc_auc_score(y_test, pred_2))"
   ]
  },
  {
   "cell_type": "code",
   "execution_count": 31,
   "metadata": {},
   "outputs": [
    {
     "name": "stdout",
     "output_type": "stream",
     "text": [
      "--- 55.18145728111267 seconds ---\n",
      "accuracy:  0.8221822182218221\n",
      "AUC:  0.8225012734059619\n"
     ]
    }
   ],
   "source": [
    "start_time = time.time()\n",
    "model_3 = RandomForestClassifier()\n",
    "model_3.fit(count_train, y_train)\n",
    "pred_3 = model_3.predict(count_test)\n",
    "print(\"--- %s seconds ---\" % (time.time() - start_time))\n",
    "print('accuracy: ' , accuracy_score(y_test, pred_3))\n",
    "print(('AUC: '), roc_auc_score(y_test, pred_3))"
   ]
  },
  {
   "cell_type": "markdown",
   "metadata": {},
   "source": [
    "### 2.3 min df, ngram"
   ]
  },
  {
   "cell_type": "code",
   "execution_count": 32,
   "metadata": {},
   "outputs": [
    {
     "data": {
      "text/plain": [
       "<20000x125847 sparse matrix of type '<class 'numpy.int64'>'\n",
       "\twith 2203932 stored elements in Compressed Sparse Row format>"
      ]
     },
     "execution_count": 32,
     "metadata": {},
     "output_type": "execute_result"
    }
   ],
   "source": [
    "count_vectorizer = CountVectorizer(min_df=3,ngram_range=(1,3))\n",
    "count_train = count_vectorizer.fit_transform(X_train)\n",
    "count_test = count_vectorizer.transform(X_test)\n",
    "count_train"
   ]
  },
  {
   "cell_type": "code",
   "execution_count": 33,
   "metadata": {},
   "outputs": [
    {
     "name": "stdout",
     "output_type": "stream",
     "text": [
      "--- 0.1216428279876709 seconds ---\n",
      "accuracy:  0.8661866186618662\n",
      "AUC:  0.8662579430322388\n"
     ]
    }
   ],
   "source": [
    "start_time = time.time()\n",
    "model_1 = MultinomialNB()\n",
    "model_1.fit(count_train, y_train)\n",
    "pred_1 = model_1.predict(count_test)\n",
    "run_time = (time.time() - start_time)\n",
    "print(\"--- %s seconds ---\" %run_time)\n",
    "print('accuracy: ' , accuracy_score(y_test, pred_1))\n",
    "print(('AUC: '), roc_auc_score(y_test, pred_1))\n",
    "performance.loc['Naive_Bayes','Model_Accuracy(Body)'] = accuracy_score(y_test, pred_1)"
   ]
  },
  {
   "cell_type": "code",
   "execution_count": 34,
   "metadata": {},
   "outputs": [
    {
     "name": "stdout",
     "output_type": "stream",
     "text": [
      "--- 11.396665096282959 seconds ---\n",
      "accuracy:  0.8744874487448745\n",
      "AUC:  0.8744409117626699\n"
     ]
    }
   ],
   "source": [
    "start_time = time.time()\n",
    "model_2 = LogisticRegression(max_iter=1000)\n",
    "model_2.fit(count_train, y_train)\n",
    "pred_2 = model_2.predict(count_test)\n",
    "run_time = (time.time() - start_time)\n",
    "print(\"--- %s seconds ---\" %run_time)\n",
    "print('accuracy: ' , accuracy_score(y_test, pred_2))\n",
    "print(('AUC: '), roc_auc_score(y_test, pred_2))\n",
    "performance.loc['Logistic_Regression','Model_Accuracy(Body)'] = accuracy_score(y_test, pred_2)"
   ]
  },
  {
   "cell_type": "code",
   "execution_count": 35,
   "metadata": {},
   "outputs": [
    {
     "name": "stdout",
     "output_type": "stream",
     "text": [
      "--- 81.45951795578003 seconds ---\n",
      "accuracy:  0.8326832683268327\n",
      "AUC:  0.8329981198005925\n"
     ]
    }
   ],
   "source": [
    "start_time = time.time()\n",
    "model_3 = RandomForestClassifier()\n",
    "model_3.fit(count_train, y_train)\n",
    "pred_3 = model_3.predict(count_test)\n",
    "run_time = (time.time() - start_time)\n",
    "print(\"--- %s seconds ---\" %run_time)\n",
    "print('accuracy: ' , accuracy_score(y_test, pred_3))\n",
    "print(('AUC: '), roc_auc_score(y_test, pred_3))\n",
    "performance.loc['Random_Forest','Model_Accuracy(Body)'] = accuracy_score(y_test, pred_3)"
   ]
  },
  {
   "cell_type": "markdown",
   "metadata": {},
   "source": [
    "### 2.4. tf-tdf"
   ]
  },
  {
   "cell_type": "code",
   "execution_count": 36,
   "metadata": {},
   "outputs": [
    {
     "data": {
      "text/plain": [
       "<20000x125847 sparse matrix of type '<class 'numpy.float64'>'\n",
       "\twith 2203932 stored elements in Compressed Sparse Row format>"
      ]
     },
     "execution_count": 36,
     "metadata": {},
     "output_type": "execute_result"
    }
   ],
   "source": [
    "tfidf_vectorizer = TfidfVectorizer(min_df=3,ngram_range=(1,3))\n",
    "tfidf_train = tfidf_vectorizer.fit_transform(X_train)\n",
    "tfidf_test = tfidf_vectorizer.transform(X_test)\n",
    "tfidf_train"
   ]
  },
  {
   "cell_type": "code",
   "execution_count": 37,
   "metadata": {},
   "outputs": [
    {
     "name": "stdout",
     "output_type": "stream",
     "text": [
      "accuracy:  0.8667866786678667\n",
      "AUC:  0.8669954581520588\n"
     ]
    }
   ],
   "source": [
    "model_1 = MultinomialNB()\n",
    "model_1.fit(tfidf_train, y_train)\n",
    "pred_1 = model_1.predict(tfidf_test)\n",
    "print('accuracy: ' , accuracy_score(y_test, pred_1))\n",
    "print(('AUC: '), roc_auc_score(y_test, pred_1))"
   ]
  },
  {
   "cell_type": "code",
   "execution_count": 38,
   "metadata": {},
   "outputs": [
    {
     "name": "stdout",
     "output_type": "stream",
     "text": [
      "accuracy:  0.8731873187318732\n",
      "AUC:  0.8733096311103979\n"
     ]
    }
   ],
   "source": [
    "model_2 = LogisticRegression(max_iter=1000)\n",
    "model_2.fit(tfidf_train, y_train)\n",
    "pred_2 = model_2.predict(tfidf_test)\n",
    "print('accuracy: ' , accuracy_score(y_test, pred_2))\n",
    "print(('AUC: '), roc_auc_score(y_test, pred_2))"
   ]
  },
  {
   "cell_type": "code",
   "execution_count": 39,
   "metadata": {},
   "outputs": [
    {
     "name": "stdout",
     "output_type": "stream",
     "text": [
      "accuracy:  0.8288828882888288\n",
      "AUC:  0.8291166023728364\n"
     ]
    }
   ],
   "source": [
    "model_3 = RandomForestClassifier()\n",
    "model_3.fit(tfidf_train, y_train)\n",
    "pred_3 = model_3.predict(tfidf_test)\n",
    "print('accuracy: ' , accuracy_score(y_test, pred_3))\n",
    "print(('AUC: '), roc_auc_score(y_test, pred_3))"
   ]
  },
  {
   "cell_type": "markdown",
   "metadata": {},
   "source": [
    "## 3. Using review title + body for prediction"
   ]
  },
  {
   "cell_type": "code",
   "execution_count": 40,
   "metadata": {},
   "outputs": [],
   "source": [
    "X_train = data[:20000]\n",
    "X_test = data[20000:]"
   ]
  },
  {
   "cell_type": "code",
   "execution_count": 41,
   "metadata": {},
   "outputs": [],
   "source": [
    "count_vectorizer = CountVectorizer(min_df=3,ngram_range=(1,3))\n",
    "count_train_title = count_vectorizer.fit_transform(X_train.title)\n",
    "count_test_title = count_vectorizer.transform(X_test.title)"
   ]
  },
  {
   "cell_type": "code",
   "execution_count": 42,
   "metadata": {},
   "outputs": [],
   "source": [
    "count_vectorizer = CountVectorizer(min_df=3,ngram_range=(1,3))\n",
    "count_train_body = count_vectorizer.fit_transform(X_train.body)\n",
    "count_test_body = count_vectorizer.transform(X_test.body)"
   ]
  },
  {
   "cell_type": "code",
   "execution_count": 43,
   "metadata": {},
   "outputs": [],
   "source": [
    "count_train = hstack((count_train_title,count_train_body))\n",
    "count_test =  hstack((count_test_title,count_test_body))"
   ]
  },
  {
   "cell_type": "code",
   "execution_count": 44,
   "metadata": {},
   "outputs": [
    {
     "data": {
      "text/plain": [
       "((20000, 6890), (20000, 125847), (20000, 132737))"
      ]
     },
     "execution_count": 44,
     "metadata": {},
     "output_type": "execute_result"
    }
   ],
   "source": [
    "count_train_title.shape, count_train_body.shape, count_train.shape"
   ]
  },
  {
   "cell_type": "code",
   "execution_count": 45,
   "metadata": {},
   "outputs": [
    {
     "name": "stdout",
     "output_type": "stream",
     "text": [
      "--- 0.21218323707580566 seconds ---\n",
      "accuracy:  0.8838883888388839\n",
      "AUC:  0.8839018479091134\n"
     ]
    }
   ],
   "source": [
    "start_time = time.time()\n",
    "model_1 = MultinomialNB()\n",
    "model_1.fit(count_train, y_train)\n",
    "pred_1 = model_1.predict(count_test)\n",
    "run_time = (time.time() - start_time)\n",
    "print(\"--- %s seconds ---\" %run_time)\n",
    "print('accuracy: ' , accuracy_score(y_test, pred_1))\n",
    "print(('AUC: '), roc_auc_score(y_test, pred_1))\n",
    "performance.loc['Naive_Bayes','Model_Accuracy(Title&Body)'] = accuracy_score(y_test, pred_1)\n",
    "performance.loc['Naive_Bayes','Model_Run_Time(secs)'] = run_time"
   ]
  },
  {
   "cell_type": "code",
   "execution_count": 46,
   "metadata": {},
   "outputs": [
    {
     "name": "stdout",
     "output_type": "stream",
     "text": [
      "--- 12.955616235733032 seconds ---\n",
      "accuracy:  0.8953895389538954\n",
      "AUC:  0.8953901903926972\n"
     ]
    }
   ],
   "source": [
    "start_time = time.time()\n",
    "model_2 = LogisticRegression(max_iter=1000)\n",
    "model_2.fit(count_train, y_train)\n",
    "pred_2 = model_2.predict(count_test)\n",
    "run_time = (time.time() - start_time)\n",
    "print(\"--- %s seconds ---\" %run_time)\n",
    "print('accuracy: ' , accuracy_score(y_test, pred_2))\n",
    "print(('AUC: '), roc_auc_score(y_test, pred_2))\n",
    "performance.loc['Logistic_Regression','Model_Accuracy(Title&Body)'] = accuracy_score(y_test, pred_2)\n",
    "performance.loc['Logistic_Regression','Model_Run_Time(secs)'] = run_time"
   ]
  },
  {
   "cell_type": "code",
   "execution_count": 47,
   "metadata": {},
   "outputs": [
    {
     "name": "stdout",
     "output_type": "stream",
     "text": [
      "--- 78.57834315299988 seconds ---\n",
      "accuracy:  0.8555855585558556\n",
      "AUC:  0.8558453434955063\n"
     ]
    }
   ],
   "source": [
    "start_time = time.time()\n",
    "model_3 = RandomForestClassifier()\n",
    "model_3.fit(count_train, y_train)\n",
    "pred_3 = model_3.predict(count_test)\n",
    "run_time = (time.time() - start_time)\n",
    "print(\"--- %s seconds ---\" %run_time)\n",
    "print('accuracy: ' , accuracy_score(y_test, pred_3))\n",
    "print(('AUC: '), roc_auc_score(y_test, pred_3))\n",
    "performance.loc['Random_Forest','Model_Accuracy(Title&Body)'] = accuracy_score(y_test, pred_3)\n",
    "performance.loc['Random_Forest','Model_Run_Time(secs)'] = run_time"
   ]
  },
  {
   "cell_type": "markdown",
   "metadata": {},
   "source": [
    "## 4. RNN"
   ]
  },
  {
   "cell_type": "markdown",
   "metadata": {},
   "source": [
    "Because a RNN model takes a different type of inputs than the three models above, here is a dedicated session just for RNN. A more detailed notebook just for RNN model can be found in the capstone project folder, where I tested different scenarios and compared basic LSTM and bidirectional LSTM. "
   ]
  },
  {
   "cell_type": "markdown",
   "metadata": {},
   "source": [
    "### 4.1 Label encoding"
   ]
  },
  {
   "cell_type": "code",
   "execution_count": 48,
   "metadata": {},
   "outputs": [],
   "source": [
    "y = np.array(data.label.map({1:1, 2:0}))\n",
    "labels = tf.keras.utils.to_categorical(y, 2, dtype=\"float32\")\n",
    "del y"
   ]
  },
  {
   "cell_type": "markdown",
   "metadata": {},
   "source": [
    "### 4.2 Transform text input into 2D numeric arrays"
   ]
  },
  {
   "cell_type": "code",
   "execution_count": 49,
   "metadata": {},
   "outputs": [],
   "source": [
    "max_words =5000\n",
    "max_len = 12 # most review titles have fewer than 12 words\n",
    "\n",
    "tokenizer = Tokenizer(num_words=max_words)  # the maximum number of words to keep, based on word frequency\n",
    "tokenizer.fit_on_texts(data.title)\n",
    "sequences = tokenizer.texts_to_sequences(data.title) # Transform each text in texts in a sequence of integers.\n",
    "inputs_title = pad_sequences(sequences,maxlen=max_len) # if a sequence's lenth < maxlen, then padded with 0; if > maxlen, then truncted"
   ]
  },
  {
   "cell_type": "code",
   "execution_count": 50,
   "metadata": {},
   "outputs": [],
   "source": [
    "max_words =5000\n",
    "max_len = 110 # most review bodies have fewer than 110 words\n",
    "\n",
    "tokenizer = Tokenizer(num_words=max_words)  # the maximum number of words to keep, based on word frequency\n",
    "tokenizer.fit_on_texts(data.body)\n",
    "sequences = tokenizer.texts_to_sequences(data.body) # Transform each text in texts in a sequence of integers.\n",
    "inputs_body = pad_sequences(sequences,maxlen=max_len) # if a sequence's lenth < maxlen, then padded with 0; if > maxlen, then truncted"
   ]
  },
  {
   "cell_type": "code",
   "execution_count": 51,
   "metadata": {},
   "outputs": [],
   "source": [
    "# combine review titles and bodies\n",
    "inputs_title_body = np.concatenate((inputs_title,inputs_body),axis=1)"
   ]
  },
  {
   "cell_type": "markdown",
   "metadata": {},
   "source": [
    "### 4.3 Use review title to for prediction"
   ]
  },
  {
   "cell_type": "code",
   "execution_count": 52,
   "metadata": {},
   "outputs": [],
   "source": [
    "X_train = inputs_title[:20000]\n",
    "y_train = labels[:20000]\n",
    "X_test = inputs_title[20000:]\n",
    "y_test = labels[20000:]"
   ]
  },
  {
   "cell_type": "code",
   "execution_count": 53,
   "metadata": {},
   "outputs": [
    {
     "name": "stdout",
     "output_type": "stream",
     "text": [
      "Epoch 1/8\n",
      "625/625 [==============================] - 12s 9ms/step - loss: 0.5408 - accuracy: 0.7103 - val_loss: 0.4556 - val_accuracy: 0.7736\n",
      "Epoch 2/8\n",
      "625/625 [==============================] - 5s 8ms/step - loss: 0.4266 - accuracy: 0.8021 - val_loss: 0.4457 - val_accuracy: 0.7757\n",
      "Epoch 3/8\n",
      "625/625 [==============================] - 5s 8ms/step - loss: 0.3941 - accuracy: 0.8195 - val_loss: 0.4312 - val_accuracy: 0.7981\n",
      "Epoch 4/8\n",
      "625/625 [==============================] - 5s 8ms/step - loss: 0.3800 - accuracy: 0.8307 - val_loss: 0.4303 - val_accuracy: 0.8003\n",
      "Epoch 5/8\n",
      "625/625 [==============================] - 5s 8ms/step - loss: 0.3689 - accuracy: 0.8389 - val_loss: 0.4301 - val_accuracy: 0.8014\n",
      "Epoch 6/8\n",
      "625/625 [==============================] - 6s 10ms/step - loss: 0.3638 - accuracy: 0.8400 - val_loss: 0.4202 - val_accuracy: 0.8054\n",
      "Epoch 7/8\n",
      "625/625 [==============================] - 5s 8ms/step - loss: 0.3587 - accuracy: 0.8439 - val_loss: 0.4230 - val_accuracy: 0.8052\n",
      "Epoch 8/8\n",
      "625/625 [==============================] - 5s 8ms/step - loss: 0.3542 - accuracy: 0.8461 - val_loss: 0.4276 - val_accuracy: 0.7969\n"
     ]
    }
   ],
   "source": [
    "BiLSTM = Sequential()\n",
    "BiLSTM.add(layers.Embedding(max_words, 20))\n",
    "BiLSTM.add(layers.Bidirectional(layers.LSTM(15,dropout=0.6)))\n",
    "BiLSTM.add(layers.Dense(2,activation='softmax'))\n",
    "BiLSTM.compile(optimizer='rmsprop',loss='categorical_crossentropy', metrics=['accuracy'])\n",
    "\n",
    "history = BiLSTM.fit(X_train, y_train, epochs=8,validation_data=(X_test, y_test))"
   ]
  },
  {
   "cell_type": "code",
   "execution_count": 54,
   "metadata": {},
   "outputs": [
    {
     "name": "stdout",
     "output_type": "stream",
     "text": [
      "accuracy:  0.8053805232048035\n"
     ]
    }
   ],
   "source": [
    "accuracy =  max(history.history['val_accuracy'])\n",
    "print('accuracy: ' ,accuracy)\n",
    "performance.loc['RNN','Model_Accuracy(Title)'] = accuracy"
   ]
  },
  {
   "cell_type": "markdown",
   "metadata": {},
   "source": [
    "### 4.4 Use review body to for prediction"
   ]
  },
  {
   "cell_type": "code",
   "execution_count": 55,
   "metadata": {},
   "outputs": [],
   "source": [
    "X_train = inputs_body[:20000]\n",
    "y_train = labels[:20000]\n",
    "X_test = inputs_body[20000:]\n",
    "y_test = labels[20000:]"
   ]
  },
  {
   "cell_type": "code",
   "execution_count": 57,
   "metadata": {
    "scrolled": true
   },
   "outputs": [
    {
     "name": "stdout",
     "output_type": "stream",
     "text": [
      "Epoch 1/8\n",
      "625/625 [==============================] - 38s 51ms/step - loss: 0.5206 - accuracy: 0.7302 - val_loss: 0.3940 - val_accuracy: 0.8252\n",
      "Epoch 2/8\n",
      "625/625 [==============================] - 31s 49ms/step - loss: 0.3729 - accuracy: 0.8388 - val_loss: 0.3511 - val_accuracy: 0.8505\n",
      "Epoch 3/8\n",
      "625/625 [==============================] - 30s 48ms/step - loss: 0.3395 - accuracy: 0.8562 - val_loss: 0.3499 - val_accuracy: 0.8526\n",
      "Epoch 4/8\n",
      "625/625 [==============================] - 28s 45ms/step - loss: 0.3215 - accuracy: 0.8655 - val_loss: 0.3211 - val_accuracy: 0.8607\n",
      "Epoch 5/8\n",
      "625/625 [==============================] - 29s 46ms/step - loss: 0.3082 - accuracy: 0.8719 - val_loss: 0.3328 - val_accuracy: 0.8546\n",
      "Epoch 6/8\n",
      "625/625 [==============================] - 28s 45ms/step - loss: 0.2994 - accuracy: 0.8749 - val_loss: 0.3251 - val_accuracy: 0.8610\n",
      "Epoch 7/8\n",
      "625/625 [==============================] - 27s 44ms/step - loss: 0.2911 - accuracy: 0.8804 - val_loss: 0.3251 - val_accuracy: 0.8587\n",
      "Epoch 8/8\n",
      "625/625 [==============================] - 27s 44ms/step - loss: 0.2853 - accuracy: 0.8830 - val_loss: 0.3342 - val_accuracy: 0.8629\n"
     ]
    }
   ],
   "source": [
    "BiLSTM = Sequential()\n",
    "BiLSTM.add(layers.Embedding(max_words, 20))\n",
    "BiLSTM.add(layers.Bidirectional(layers.LSTM(15,dropout=0.6)))\n",
    "BiLSTM.add(layers.Dense(2,activation='softmax'))\n",
    "BiLSTM.compile(optimizer='rmsprop',loss='categorical_crossentropy', metrics=['accuracy'])\n",
    "\n",
    "history = BiLSTM.fit(X_train, y_train, epochs=8,validation_data=(X_test, y_test))"
   ]
  },
  {
   "cell_type": "code",
   "execution_count": 58,
   "metadata": {},
   "outputs": [
    {
     "name": "stdout",
     "output_type": "stream",
     "text": [
      "accuracy:  0.8628863096237183\n"
     ]
    }
   ],
   "source": [
    "accuracy =  max(history.history['val_accuracy'])\n",
    "print('accuracy: ' ,accuracy)\n",
    "performance.loc['RNN','Model_Accuracy(Body)'] = accuracy"
   ]
  },
  {
   "cell_type": "markdown",
   "metadata": {},
   "source": [
    "### 4.5 Use review title + body to for prediction"
   ]
  },
  {
   "cell_type": "code",
   "execution_count": 59,
   "metadata": {},
   "outputs": [],
   "source": [
    "X_train = inputs_title_body[:20000]\n",
    "y_train = labels[:20000]\n",
    "X_test = inputs_title_body[20000:]\n",
    "y_test = labels[20000:]"
   ]
  },
  {
   "cell_type": "code",
   "execution_count": 60,
   "metadata": {
    "scrolled": false
   },
   "outputs": [
    {
     "name": "stdout",
     "output_type": "stream",
     "text": [
      "Epoch 1/8\n",
      "625/625 [==============================] - 37s 52ms/step - loss: 0.5221 - accuracy: 0.7287 - val_loss: 0.3587 - val_accuracy: 0.8467\n",
      "Epoch 2/8\n",
      "625/625 [==============================] - 34s 55ms/step - loss: 0.3539 - accuracy: 0.8454 - val_loss: 0.2962 - val_accuracy: 0.8753\n",
      "Epoch 3/8\n",
      "625/625 [==============================] - 32s 51ms/step - loss: 0.2961 - accuracy: 0.8790 - val_loss: 0.2740 - val_accuracy: 0.8867\n",
      "Epoch 4/8\n",
      "625/625 [==============================] - 32s 51ms/step - loss: 0.2678 - accuracy: 0.8897 - val_loss: 0.2719 - val_accuracy: 0.8855\n",
      "Epoch 5/8\n",
      "625/625 [==============================] - 34s 54ms/step - loss: 0.2500 - accuracy: 0.9003 - val_loss: 0.2780 - val_accuracy: 0.8878\n",
      "Epoch 6/8\n",
      "625/625 [==============================] - 35s 56ms/step - loss: 0.2426 - accuracy: 0.9013 - val_loss: 0.2810 - val_accuracy: 0.8892\n",
      "Epoch 7/8\n",
      "625/625 [==============================] - 35s 56ms/step - loss: 0.2303 - accuracy: 0.9087 - val_loss: 0.2561 - val_accuracy: 0.8950\n",
      "Epoch 8/8\n",
      "625/625 [==============================] - 35s 56ms/step - loss: 0.2234 - accuracy: 0.9125 - val_loss: 0.2588 - val_accuracy: 0.8953\n"
     ]
    }
   ],
   "source": [
    "BiLSTM = Sequential()\n",
    "BiLSTM.add(layers.Embedding(max_words, 20))\n",
    "BiLSTM.add(layers.Bidirectional(layers.LSTM(15,dropout=0.6)))\n",
    "BiLSTM.add(layers.Dense(2,activation='softmax'))\n",
    "BiLSTM.compile(optimizer='rmsprop',loss='categorical_crossentropy', metrics=['accuracy'])\n",
    "\n",
    "history = BiLSTM.fit(X_train, y_train, epochs=8,validation_data=(X_test, y_test))"
   ]
  },
  {
   "cell_type": "code",
   "execution_count": 61,
   "metadata": {},
   "outputs": [
    {
     "name": "stdout",
     "output_type": "stream",
     "text": [
      "accuracy:  0.8952895402908325\n"
     ]
    }
   ],
   "source": [
    "accuracy =  max(history.history['val_accuracy'])\n",
    "print('accuracy: ' ,accuracy)\n",
    "performance.loc['RNN','Model_Accuracy(Title&Body)'] = accuracy"
   ]
  },
  {
   "cell_type": "markdown",
   "metadata": {},
   "source": [
    "## 5. Model performance comparison"
   ]
  },
  {
   "cell_type": "code",
   "execution_count": 62,
   "metadata": {
    "scrolled": true
   },
   "outputs": [
    {
     "data": {
      "text/html": [
       "<div>\n",
       "<style scoped>\n",
       "    .dataframe tbody tr th:only-of-type {\n",
       "        vertical-align: middle;\n",
       "    }\n",
       "\n",
       "    .dataframe tbody tr th {\n",
       "        vertical-align: top;\n",
       "    }\n",
       "\n",
       "    .dataframe thead th {\n",
       "        text-align: right;\n",
       "    }\n",
       "</style>\n",
       "<table border=\"1\" class=\"dataframe\">\n",
       "  <thead>\n",
       "    <tr style=\"text-align: right;\">\n",
       "      <th></th>\n",
       "      <th>Model_Accuracy(Title)</th>\n",
       "      <th>Model_Accuracy(Body)</th>\n",
       "      <th>Model_Accuracy(Title&amp;Body)</th>\n",
       "      <th>Model_Run_Time(secs)</th>\n",
       "    </tr>\n",
       "  </thead>\n",
       "  <tbody>\n",
       "    <tr>\n",
       "      <th>Naive_Bayes</th>\n",
       "      <td>0.799880</td>\n",
       "      <td>0.866187</td>\n",
       "      <td>0.883888</td>\n",
       "      <td>0.212183</td>\n",
       "    </tr>\n",
       "    <tr>\n",
       "      <th>Logistic_Regression</th>\n",
       "      <td>0.805681</td>\n",
       "      <td>0.874487</td>\n",
       "      <td>0.895390</td>\n",
       "      <td>12.955616</td>\n",
       "    </tr>\n",
       "    <tr>\n",
       "      <th>Random_Forest</th>\n",
       "      <td>0.794279</td>\n",
       "      <td>0.832683</td>\n",
       "      <td>0.855586</td>\n",
       "      <td>78.578343</td>\n",
       "    </tr>\n",
       "    <tr>\n",
       "      <th>RNN</th>\n",
       "      <td>0.805381</td>\n",
       "      <td>0.862886</td>\n",
       "      <td>0.895290</td>\n",
       "      <td>NaN</td>\n",
       "    </tr>\n",
       "  </tbody>\n",
       "</table>\n",
       "</div>"
      ],
      "text/plain": [
       "                     Model_Accuracy(Title)  Model_Accuracy(Body)  \\\n",
       "Naive_Bayes                       0.799880              0.866187   \n",
       "Logistic_Regression               0.805681              0.874487   \n",
       "Random_Forest                     0.794279              0.832683   \n",
       "RNN                               0.805381              0.862886   \n",
       "\n",
       "                     Model_Accuracy(Title&Body)  Model_Run_Time(secs)  \n",
       "Naive_Bayes                            0.883888              0.212183  \n",
       "Logistic_Regression                    0.895390             12.955616  \n",
       "Random_Forest                          0.855586             78.578343  \n",
       "RNN                                    0.895290                   NaN  "
      ]
     },
     "execution_count": 62,
     "metadata": {},
     "output_type": "execute_result"
    }
   ],
   "source": [
    "performance"
   ]
  },
  {
   "cell_type": "code",
   "execution_count": 80,
   "metadata": {},
   "outputs": [
    {
     "data": {
      "text/plain": [
       "<matplotlib.legend.Legend at 0x205f3882be0>"
      ]
     },
     "execution_count": 80,
     "metadata": {},
     "output_type": "execute_result"
    },
    {
     "data": {
      "image/png": "[encoded data removed]",
      "text/plain": [
       "<Figure size 432x288 with 1 Axes>"
      ]
     },
     "metadata": {
      "needs_background": "light"
     },
     "output_type": "display_data"
    }
   ],
   "source": [
    "performance[['Model_Accuracy(Title)','Model_Accuracy(Body)','Model_Accuracy(Title&Body)']].plot(kind='bar')\n",
    "plt.title('Accuracy')\n",
    "plt.xticks(rotation=30)\n",
    "plt.legend([\"Review Tile\", \"Review Body\", 'Title + Body'],loc='lower right')"
   ]
  },
  {
   "cell_type": "markdown",
   "metadata": {},
   "source": [
    "## 6. Random Forest fine tuning trial\n",
    "\n",
    "The above summary table shows that Random Forest model somewhat underforms than other models, which is a bit surprising. Let's do a quick fine tuning to see if its performance can improve."
   ]
  },
  {
   "cell_type": "code",
   "execution_count": 65,
   "metadata": {},
   "outputs": [],
   "source": [
    "y_train = data.label[:20000]\n",
    "y_test = data.label[20000:]"
   ]
  },
  {
   "cell_type": "code",
   "execution_count": 66,
   "metadata": {},
   "outputs": [],
   "source": [
    "# n_estimators = [100]\n",
    "max_depth = [5,10,20]\n",
    "min_samples_leaf = [1,10,50,100]\n",
    "\n",
    "param_grid = {# 'n_estimators': n_estimators,\n",
    "               # 'max_features': max_features,\n",
    "               'max_depth': max_depth,\n",
    "               # 'min_samples_split': min_samples_split,\n",
    "               'min_samples_leaf': min_samples_leaf,\n",
    "               # 'bootstrap': bootstrap\n",
    "    }"
   ]
  },
  {
   "cell_type": "code",
   "execution_count": 67,
   "metadata": {
    "scrolled": true
   },
   "outputs": [
    {
     "name": "stdout",
     "output_type": "stream",
     "text": [
      "Fitting 3 folds for each of 12 candidates, totalling 36 fits\n"
     ]
    },
    {
     "name": "stderr",
     "output_type": "stream",
     "text": [
      "[Parallel(n_jobs=-1)]: Using backend LokyBackend with 4 concurrent workers.\n",
      "[Parallel(n_jobs=-1)]: Done  17 tasks      | elapsed:   39.1s\n",
      "[Parallel(n_jobs=-1)]: Done  36 out of  36 | elapsed:  1.2min finished\n"
     ]
    },
    {
     "data": {
      "text/plain": [
       "GridSearchCV(cv=3, estimator=RandomForestClassifier(), n_jobs=-1,\n",
       "             param_grid={'max_depth': [5, 10, 20],\n",
       "                         'min_samples_leaf': [1, 10, 50, 100]},\n",
       "             verbose=4)"
      ]
     },
     "execution_count": 67,
     "metadata": {},
     "output_type": "execute_result"
    }
   ],
   "source": [
    "rf = RandomForestClassifier()\n",
    "rf_GridSearch = GridSearchCV(estimator = rf, param_grid = param_grid, cv = 3, verbose=4,  n_jobs = -1)\n",
    "rf_GridSearch.fit(count_train, y_train)"
   ]
  },
  {
   "cell_type": "code",
   "execution_count": 68,
   "metadata": {},
   "outputs": [
    {
     "data": {
      "text/plain": [
       "{'max_depth': 20, 'min_samples_leaf': 10}"
      ]
     },
     "execution_count": 68,
     "metadata": {},
     "output_type": "execute_result"
    }
   ],
   "source": [
    "rf_GridSearch.best_params_"
   ]
  },
  {
   "cell_type": "code",
   "execution_count": 69,
   "metadata": {},
   "outputs": [
    {
     "name": "stdout",
     "output_type": "stream",
     "text": [
      "accuracy:  0.8301830183018302\n",
      "AUC:  0.8297833949463088\n"
     ]
    }
   ],
   "source": [
    "pred_4 = rf_GridSearch.best_estimator_.predict(count_test)\n",
    "print('accuracy: ' , accuracy_score(y_test, pred_4))\n",
    "print(('AUC: '), roc_auc_score(y_test, pred_4))"
   ]
  },
  {
   "cell_type": "markdown",
   "metadata": {},
   "source": [
    "The performance doesn't get to increase with our defined parameters grid. It doesn't mean we've achieved the best performance. In fact, increase number of trees and max depth may very likely improve the performance. Since hyperparamter tuning isn't the focus of this study, we'll just stop here."
   ]
  },
  {
   "cell_type": "code",
   "execution_count": null,
   "metadata": {},
   "outputs": [],
   "source": []
  }
 ],
 "metadata": {
  "kernelspec": {
   "display_name": "Python 3",
   "language": "python",
   "name": "python3"
  },
  "language_info": {
   "codemirror_mode": {
    "name": "ipython",
    "version": 3
   },
   "file_extension": ".py",
   "mimetype": "text/x-python",
   "name": "python",
   "nbconvert_exporter": "python",
   "pygments_lexer": "ipython3",
   "version": "3.8.5"
  }
 },
 "nbformat": 4,
 "nbformat_minor": 4
}
